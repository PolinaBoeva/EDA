{
 "cells": [
  {
   "cell_type": "markdown",
   "metadata": {
    "id": "xrIiJuhjj2lX"
   },
   "source": [
    "## Часть 1. Парсинг (10 баллов)\n",
    "\n",
    "Мы предлагаем вам распарсить часть данных litres.ru — а именно часть про книги, имеющие отношение к программированию.\n",
    "\n",
    "Они находятся в этом каталоге: https://www.litres.ru/genre/programmirovanie-5272/\n",
    "\n",
    "Вам нужно собрать датасет о книгах с первых 40-ти страниц каталога (около 960 книг.)\n",
    "*Подсказка.* Можете начать с исследования html кода этой страницы.\n",
    "\n",
    "Вам необходимо собрать датасет, содержащий следующие данные:\n",
    "* name: название книги\n",
    "* author: автор\n",
    "* link: ссылка на книгу\n",
    "* rating: рейтинг по 5-балльной шкале\n",
    "* rating_count: количество оценок\n",
    "* review_count: количество отзывов\n",
    "* pages_count: объем (число страниц)\n",
    "* price: цена\n",
    "* text_reviews: тексты отзывов: список строк\n",
    "* age: возрастное ограничение\n",
    "* year: год написания\n",
    "\n",
    "В дальнейшем вам нужно будет анализировать полученный у вас датасет.\n",
    "\n",
    "Если у вас не получилось спарсить датасет, воспользуйтесь для последующих пунктов готовым датасетом: https://disk.yandex.ru/d/2UZet2-qxRxF6Q\n",
    "\n",
    " Так вы сможете получить баллы за вторую часть.\n",
    "\n",
    "(Датасет неидеален, с ним придется поработать!)\n",
    "\n",
    "**Парсите \"вежливо\": используйте time.sleep() не меньше 1-2 секунд между запросами к сайту!**"
   ]
  },
  {
   "cell_type": "markdown",
   "metadata": {
    "id": "R4wzhyB5512U"
   },
   "source": [
    "## Часть 2. EDA (30 баллов)\n",
    "\n",
    "1. Выведите первые 5 строк датасета. (0.25). Сколько в нём строк и столбцов (0.25)?\n",
    "2. Есть ли в датасете пропуски? (0.5)\n",
    "3. Проверьте типы данных. Если это необходимо, приведите к типам int и float те столбцы, с которыми понадобится работать как с числами. (1).\n",
    "4. Выведите описательные статистики переменных. Ответьте на следующие вопросы:\n",
    "\n",
    "* Какая медианная цена книги в вашем датасете? (1)  \n",
    "* Какое возрастное ограничение встречается чаще всего? (1)  \n",
    "* Какое среднее число отзывов в книге? (1)  \n",
    "* Сколько книг имеют оценку ниже 4.25? (1)  \n",
    "* В каком году было написано больше всего книг из датасета? (1)  \n",
    "\n",
    "5. Если вы работаете с готовым датасетом, то попробуйте \"достать\" из столбца pages количество страниц. Если у вас не получилось, то далее при определении числа страниц пользуйтесь стольцов pages_count. Если вы парсили датасет сами, то вы получаете балл за этот пункт автоматически (1.5)\n",
    "\n",
    "6. Создайте новое поле is_popular. Значение равно 1, если рейтинг книги не менее 4.6 и при этом у нее не менее 5 отзывов, и 0 в остальных случаях. (1)\n",
    "\n",
    "7. Как отличается среднее число страниц среди популярных и непопулярных книг? (2)\n",
    "\n",
    "8. Выведите топ-10 книг по числу отзывов. (2).\n",
    "\n",
    "9. Найдите среднюю длину отзыва (в символах). (2)\n",
    "\n",
    "10. Постройте таблицу корреляций числовых переменных. (1) Прокомментируйте результаты. (1)\n",
    "\n",
    "11. Постройте диаграмму рассеяния (scatterplot) количества страниц и количества отзывов. Не забудьте подписать график и оси. (1) Прокомментируйте полученные результаты. (1)\n",
    "\n",
    "12. Постройте линейный график: по оси Х год, по оси Y количество книг. (1) Прокомментируйте. (1)\n",
    "\n",
    "12. Постройте еще любые два графика по вашему усмотрению. (2) Прокомментируйте полученные результаты. (1.5)\n",
    "\n",
    "13. Постройте таблицу с авторами книг с именем автора, количество книг в датасете, средней оценкой книг, средним количеством отзывов. (2).\n",
    "\n",
    "14. Что еще интересного можно увидеть в этом датасете? Просмотрите на данные и ответьте на какие-нибудь вопросы, на которые не ответили в предыдущим пункте. Мы никак не ограничиваем вашу фантазию! (3)."
   ]
  },
  {
   "cell_type": "code",
   "execution_count": 15,
   "metadata": {
    "id": "RxLa0tJl7C4u"
   },
   "outputs": [],
   "source": [
    "import pandas as pd\n",
    "import numpy as np\n",
    "from matplotlib import pyplot as plt"
   ]
  },
  {
   "cell_type": "code",
   "execution_count": 26,
   "metadata": {
    "colab": {
     "base_uri": "https://localhost:8080/",
     "height": 301
    },
    "id": "dTdRP6U68WCa",
    "outputId": "438da905-bf89-40ef-e08c-97d6b4a5484c"
   },
   "outputs": [],
   "source": [
    "df = pd.read_csv(\"litres_programming_data.csv\")"
   ]
  },
  {
   "cell_type": "code",
   "execution_count": 17,
   "metadata": {
    "id": "_QtqiT4k_y2Z"
   },
   "outputs": [
    {
     "name": "stdout",
     "output_type": "stream",
     "text": [
      "(965, 13)\n"
     ]
    },
    {
     "data": {
      "text/html": [
       "<div>\n",
       "<style scoped>\n",
       "    .dataframe tbody tr th:only-of-type {\n",
       "        vertical-align: middle;\n",
       "    }\n",
       "\n",
       "    .dataframe tbody tr th {\n",
       "        vertical-align: top;\n",
       "    }\n",
       "\n",
       "    .dataframe thead th {\n",
       "        text-align: right;\n",
       "    }\n",
       "</style>\n",
       "<table border=\"1\" class=\"dataframe\">\n",
       "  <thead>\n",
       "    <tr style=\"text-align: right;\">\n",
       "      <th></th>\n",
       "      <th>Unnamed: 0</th>\n",
       "      <th>name</th>\n",
       "      <th>author</th>\n",
       "      <th>link</th>\n",
       "      <th>rating</th>\n",
       "      <th>rating_count</th>\n",
       "      <th>review_count</th>\n",
       "      <th>price</th>\n",
       "      <th>pages</th>\n",
       "      <th>pages_count</th>\n",
       "      <th>text_of_reviews</th>\n",
       "      <th>age</th>\n",
       "      <th>year</th>\n",
       "    </tr>\n",
       "  </thead>\n",
       "  <tbody>\n",
       "    <tr>\n",
       "      <th>0</th>\n",
       "      <td>0</td>\n",
       "      <td>Нейросети начало</td>\n",
       "      <td>Джейд Картер</td>\n",
       "      <td>https://www.litres.ru/book/dzheyd-karter/neyro...</td>\n",
       "      <td>4.9</td>\n",
       "      <td>433</td>\n",
       "      <td>37</td>\n",
       "      <td>690.0</td>\n",
       "      <td>102 стр. 4 иллюстрации</td>\n",
       "      <td>102</td>\n",
       "      <td>['Книга отличная. Давно хотела понять как все ...</td>\n",
       "      <td>12+</td>\n",
       "      <td>2023</td>\n",
       "    </tr>\n",
       "    <tr>\n",
       "      <th>1</th>\n",
       "      <td>1</td>\n",
       "      <td>Python 3 и PyQt 6. Разработка приложений</td>\n",
       "      <td>Николай Прохоренок</td>\n",
       "      <td>https://www.litres.ru/book/vladimir-dronov/pyt...</td>\n",
       "      <td>4.7</td>\n",
       "      <td>3</td>\n",
       "      <td>1</td>\n",
       "      <td>549.0</td>\n",
       "      <td>831 стр.</td>\n",
       "      <td>831</td>\n",
       "      <td>['Большая книга, посвященная реализации графич...</td>\n",
       "      <td>0+</td>\n",
       "      <td>2023</td>\n",
       "    </tr>\n",
       "    <tr>\n",
       "      <th>2</th>\n",
       "      <td>3</td>\n",
       "      <td>Система взаимодействия. Коммуникации в бизнес-...</td>\n",
       "      <td>Е. Ю. Хрусталева</td>\n",
       "      <td>https://www.litres.ru/book/e-u-hrustaleva/sist...</td>\n",
       "      <td>4.3</td>\n",
       "      <td>10</td>\n",
       "      <td>3</td>\n",
       "      <td>250.0</td>\n",
       "      <td>130 стр.</td>\n",
       "      <td>130</td>\n",
       "      <td>['Полезная книга. Есть примеры оповещения поль...</td>\n",
       "      <td>12+</td>\n",
       "      <td>2019</td>\n",
       "    </tr>\n",
       "    <tr>\n",
       "      <th>3</th>\n",
       "      <td>4</td>\n",
       "      <td>Постановка задачи обеспечения автоматизации по...</td>\n",
       "      <td>О. В. Тиханычев</td>\n",
       "      <td>https://www.litres.ru/book/o-v-tihanychev/post...</td>\n",
       "      <td>0.0</td>\n",
       "      <td>0</td>\n",
       "      <td>0</td>\n",
       "      <td>168.0</td>\n",
       "      <td>10 стр.</td>\n",
       "      <td>10</td>\n",
       "      <td>[]</td>\n",
       "      <td>0+</td>\n",
       "      <td>2021</td>\n",
       "    </tr>\n",
       "    <tr>\n",
       "      <th>4</th>\n",
       "      <td>7</td>\n",
       "      <td>Разработка и реализация портальных решений. Пр...</td>\n",
       "      <td>С. В. Маркова</td>\n",
       "      <td>https://www.litres.ru/book/pavel-lukyanov/razr...</td>\n",
       "      <td>0.0</td>\n",
       "      <td>0</td>\n",
       "      <td>0</td>\n",
       "      <td>350.0</td>\n",
       "      <td>166 стр.</td>\n",
       "      <td>166</td>\n",
       "      <td>[]</td>\n",
       "      <td>0+</td>\n",
       "      <td>2020</td>\n",
       "    </tr>\n",
       "  </tbody>\n",
       "</table>\n",
       "</div>"
      ],
      "text/plain": [
       "   Unnamed: 0                                               name  \\\n",
       "0           0                                   Нейросети начало   \n",
       "1           1           Python 3 и PyQt 6. Разработка приложений   \n",
       "2           3  Система взаимодействия. Коммуникации в бизнес-...   \n",
       "3           4  Постановка задачи обеспечения автоматизации по...   \n",
       "4           7  Разработка и реализация портальных решений. Пр...   \n",
       "\n",
       "               author                                               link  \\\n",
       "0        Джейд Картер  https://www.litres.ru/book/dzheyd-karter/neyro...   \n",
       "1  Николай Прохоренок  https://www.litres.ru/book/vladimir-dronov/pyt...   \n",
       "2    Е. Ю. Хрусталева  https://www.litres.ru/book/e-u-hrustaleva/sist...   \n",
       "3     О. В. Тиханычев  https://www.litres.ru/book/o-v-tihanychev/post...   \n",
       "4       С. В. Маркова  https://www.litres.ru/book/pavel-lukyanov/razr...   \n",
       "\n",
       "   rating  rating_count  review_count  price                   pages  \\\n",
       "0     4.9           433            37  690.0  102 стр. 4 иллюстрации   \n",
       "1     4.7             3             1  549.0               831 стр.    \n",
       "2     4.3            10             3  250.0               130 стр.    \n",
       "3     0.0             0             0  168.0                10 стр.    \n",
       "4     0.0             0             0  350.0               166 стр.    \n",
       "\n",
       "   pages_count                                    text_of_reviews  age  year  \n",
       "0          102  ['Книга отличная. Давно хотела понять как все ...  12+  2023  \n",
       "1          831  ['Большая книга, посвященная реализации графич...   0+  2023  \n",
       "2          130  ['Полезная книга. Есть примеры оповещения поль...  12+  2019  \n",
       "3           10                                                 []   0+  2021  \n",
       "4          166                                                 []   0+  2020  "
      ]
     },
     "execution_count": 17,
     "metadata": {},
     "output_type": "execute_result"
    }
   ],
   "source": [
    "# 1\n",
    "print(df.shape)\n",
    "df.head() # 13 столбцов, 965 строк"
   ]
  },
  {
   "cell_type": "code",
   "execution_count": 18,
   "metadata": {},
   "outputs": [
    {
     "data": {
      "text/plain": [
       "Unnamed: 0         0\n",
       "name               0\n",
       "author             0\n",
       "link               0\n",
       "rating             0\n",
       "rating_count       0\n",
       "review_count       0\n",
       "price              0\n",
       "pages              0\n",
       "pages_count        0\n",
       "text_of_reviews    0\n",
       "age                0\n",
       "year               0\n",
       "dtype: int64"
      ]
     },
     "execution_count": 18,
     "metadata": {},
     "output_type": "execute_result"
    }
   ],
   "source": [
    "# 2 Нет пропусков\n",
    "df.isnull().sum()"
   ]
  },
  {
   "cell_type": "code",
   "execution_count": 19,
   "metadata": {},
   "outputs": [
    {
     "data": {
      "text/plain": [
       "Unnamed: 0         0\n",
       "name               0\n",
       "author             0\n",
       "link               0\n",
       "rating             0\n",
       "rating_count       0\n",
       "review_count       0\n",
       "price              0\n",
       "pages              0\n",
       "pages_count        0\n",
       "text_of_reviews    0\n",
       "age                0\n",
       "year               0\n",
       "dtype: int64"
      ]
     },
     "execution_count": 19,
     "metadata": {},
     "output_type": "execute_result"
    }
   ],
   "source": [
    "df.isna().sum()"
   ]
  },
  {
   "cell_type": "code",
   "execution_count": 27,
   "metadata": {},
   "outputs": [
    {
     "data": {
      "text/plain": [
       "Unnamed: 0           int64\n",
       "name                object\n",
       "author              object\n",
       "link                object\n",
       "rating             float64\n",
       "rating_count         int64\n",
       "review_count         int64\n",
       "price              float64\n",
       "pages               object\n",
       "pages_count          int64\n",
       "text_of_reviews     object\n",
       "age                 object\n",
       "year                 int64\n",
       "dtype: object"
      ]
     },
     "execution_count": 27,
     "metadata": {},
     "output_type": "execute_result"
    }
   ],
   "source": [
    "# 3\n",
    "df.dtypes"
   ]
  },
  {
   "cell_type": "code",
   "execution_count": 28,
   "metadata": {},
   "outputs": [
    {
     "data": {
      "text/plain": [
       "0      12\n",
       "1       0\n",
       "2      12\n",
       "3       0\n",
       "4       0\n",
       "       ..\n",
       "960     0\n",
       "961    12\n",
       "962     0\n",
       "963    16\n",
       "964     0\n",
       "Name: age, Length: 965, dtype: int32"
      ]
     },
     "execution_count": 28,
     "metadata": {},
     "output_type": "execute_result"
    }
   ],
   "source": [
    "# Перевод столбца age в тип даннных int\n",
    "df['age'] = df['age'].str[:-1]\n",
    "df['age'] = df['age'].astype (int)\n",
    "df['age']"
   ]
  },
  {
   "cell_type": "code",
   "execution_count": 29,
   "metadata": {},
   "outputs": [
    {
     "data": {
      "text/plain": [
       "Unnamed: 0           int64\n",
       "name                object\n",
       "author              object\n",
       "link                object\n",
       "rating             float64\n",
       "rating_count         int64\n",
       "review_count         int64\n",
       "price              float64\n",
       "pages               object\n",
       "pages_count          int64\n",
       "text_of_reviews     object\n",
       "age                  int32\n",
       "year                 int64\n",
       "dtype: object"
      ]
     },
     "execution_count": 29,
     "metadata": {},
     "output_type": "execute_result"
    }
   ],
   "source": [
    "df.dtypes"
   ]
  },
  {
   "cell_type": "code",
   "execution_count": 35,
   "metadata": {},
   "outputs": [
    {
     "data": {
      "text/plain": [
       "<bound method NDFrame.describe of      Unnamed: 0                                               name  \\\n",
       "0             0                                   Нейросети начало   \n",
       "1             1           Python 3 и PyQt 6. Разработка приложений   \n",
       "2             3  Система взаимодействия. Коммуникации в бизнес-...   \n",
       "3             4  Постановка задачи обеспечения автоматизации по...   \n",
       "4             7  Разработка и реализация портальных решений. Пр...   \n",
       "..          ...                                                ...   \n",
       "960        1192  Основы вычислений и программирования в пакете ...   \n",
       "961        1193  Справочник Жаркова по проектированию и програм...   \n",
       "962        1195  Применение компьютерных систем моделирования т...   \n",
       "963        1196                       Основы TypeScript (pdf+epub)   \n",
       "964        1197  Идентификация типа файла на основе структурног...   \n",
       "\n",
       "                        author  \\\n",
       "0                 Джейд Картер   \n",
       "1           Николай Прохоренок   \n",
       "2             Е. Ю. Хрусталева   \n",
       "3              О. В. Тиханычев   \n",
       "4                С. В. Маркова   \n",
       "..                         ...   \n",
       "960           а. ф. задорожный   \n",
       "961  Валерий Алексеевич Жарков   \n",
       "962              П. А. Кулагин   \n",
       "963                Адам Фримен   \n",
       "964              А. С. Федулов   \n",
       "\n",
       "                                                  link  rating  rating_count  \\\n",
       "0    https://www.litres.ru/book/dzheyd-karter/neyro...     4.9           433   \n",
       "1    https://www.litres.ru/book/vladimir-dronov/pyt...     4.7             3   \n",
       "2    https://www.litres.ru/book/e-u-hrustaleva/sist...     4.3            10   \n",
       "3    https://www.litres.ru/book/o-v-tihanychev/post...     0.0             0   \n",
       "4    https://www.litres.ru/book/pavel-lukyanov/razr...     0.0             0   \n",
       "..                                                 ...     ...           ...   \n",
       "960  https://www.litres.ru/book/a-f-zadorozhnyy/osn...     0.0             0   \n",
       "961  https://www.litres.ru/book/valeriy-zharkov-324...     0.0             0   \n",
       "962  https://www.litres.ru/book/a-v-mischenko/prime...     0.0             0   \n",
       "963  https://www.litres.ru/book/adam-frimen/osnovy-...     0.0             0   \n",
       "964  https://www.litres.ru/book/a-e-antonov/identif...     0.0             0   \n",
       "\n",
       "     review_count  price                    pages  pages_count  \\\n",
       "0              37  690.0   102 стр. 4 иллюстрации          102   \n",
       "1               1  549.0                831 стр.           831   \n",
       "2               3  250.0                130 стр.           130   \n",
       "3               0  168.0                 10 стр.            10   \n",
       "4               0  350.0                166 стр.           166   \n",
       "..            ...    ...                      ...          ...   \n",
       "960             0  676.0                223 стр.           223   \n",
       "961             0  990.0  345 стр. 93 иллюстрации          345   \n",
       "962             0  168.0                 16 стр.            16   \n",
       "963             0  699.0                576 стр.           576   \n",
       "964             0   96.0                 10 стр.            10   \n",
       "\n",
       "                                       text_of_reviews  age  year  \n",
       "0    ['Книга отличная. Давно хотела понять как все ...   12  2023  \n",
       "1    ['Большая книга, посвященная реализации графич...    0  2023  \n",
       "2    ['Полезная книга. Есть примеры оповещения поль...   12  2019  \n",
       "3                                                   []    0  2021  \n",
       "4                                                   []    0  2020  \n",
       "..                                                 ...  ...   ...  \n",
       "960                                                 []    0  2023  \n",
       "961                                                 []   12  2023  \n",
       "962                                                 []    0  2017  \n",
       "963                                                 []   16  2023  \n",
       "964                                                 []    0  2013  \n",
       "\n",
       "[965 rows x 13 columns]>"
      ]
     },
     "execution_count": 35,
     "metadata": {},
     "output_type": "execute_result"
    }
   ],
   "source": [
    "# 4 \n",
    "df.describe"
   ]
  },
  {
   "cell_type": "code",
   "execution_count": 36,
   "metadata": {},
   "outputs": [
    {
     "data": {
      "text/plain": [
       "200.0"
      ]
     },
     "execution_count": 36,
     "metadata": {},
     "output_type": "execute_result"
    }
   ],
   "source": [
    "# 5 Медиана цены 200\n",
    "df[\"price\"].median()"
   ]
  },
  {
   "cell_type": "code",
   "execution_count": 38,
   "metadata": {},
   "outputs": [
    {
     "data": {
      "text/plain": [
       "0    0\n",
       "Name: age, dtype: int32"
      ]
     },
     "execution_count": 38,
     "metadata": {},
     "output_type": "execute_result"
    }
   ],
   "source": [
    "# 6 Мода возрастного ограничения 0+\n",
    "df[\"age\"].mode()"
   ]
  },
  {
   "cell_type": "code",
   "execution_count": 39,
   "metadata": {},
   "outputs": [
    {
     "data": {
      "text/plain": [
       "1.6031088082901555"
      ]
     },
     "execution_count": 39,
     "metadata": {},
     "output_type": "execute_result"
    }
   ],
   "source": [
    "# 7 Среднее количество отзывов 1.6\n",
    "df[\"review_count\"].mean()"
   ]
  },
  {
   "cell_type": "code",
   "execution_count": 41,
   "metadata": {},
   "outputs": [
    {
     "data": {
      "text/plain": [
       "619"
      ]
     },
     "execution_count": 41,
     "metadata": {},
     "output_type": "execute_result"
    }
   ],
   "source": [
    "# 8 619 книг с рейтингом меньше 4.25\n",
    "df[\"rating\"].loc[df['rating'] < 4.25].count()"
   ]
  },
  {
   "cell_type": "code",
   "execution_count": 42,
   "metadata": {},
   "outputs": [
    {
     "data": {
      "text/plain": [
       "0    2021\n",
       "Name: year, dtype: int64"
      ]
     },
     "execution_count": 42,
     "metadata": {},
     "output_type": "execute_result"
    }
   ],
   "source": [
    "# 9 в 2021 году было написано больше всего книг\n",
    "df[\"year\"].mode()"
   ]
  },
  {
   "cell_type": "code",
   "execution_count": 46,
   "metadata": {},
   "outputs": [],
   "source": [
    "# 10\n",
    "df['pages'] = df['pages'].str.extract('(\\d+)')"
   ]
  },
  {
   "cell_type": "code",
   "execution_count": 61,
   "metadata": {},
   "outputs": [],
   "source": [
    "df['pages'] = df['pages'].astype(int)"
   ]
  },
  {
   "cell_type": "code",
   "execution_count": 50,
   "metadata": {},
   "outputs": [],
   "source": [
    "# 11 Создайте новое поле is_popular. Значение равно 1, если рейтинг книги не менее 4.6 и при этом у нее не менее 5 отзывов, и 0 в остальных случаях.\n",
    "def f(row):\n",
    "    if row['rating'] >= 4.6 and row[\"review_count\"] >= 5:\n",
    "        val = 1\n",
    "    else:\n",
    "        val = 0\n",
    "    return val\n",
    "\n",
    "df['is_popular'] = df.apply (f, axis=1)"
   ]
  },
  {
   "cell_type": "code",
   "execution_count": 63,
   "metadata": {},
   "outputs": [
    {
     "data": {
      "text/plain": [
       "164.34140541264736"
      ]
     },
     "execution_count": 63,
     "metadata": {},
     "output_type": "execute_result"
    }
   ],
   "source": [
    "# 12 на 164 страницы в среднем популярные книги больше, чем не популярные\n",
    "df[\"pages\"].loc[df['is_popular'] == 1].mean() - df[\"pages\"].loc[df['is_popular'] == 0].mean()"
   ]
  },
  {
   "cell_type": "code",
   "execution_count": 67,
   "metadata": {},
   "outputs": [
    {
     "data": {
      "text/html": [
       "<div>\n",
       "<style scoped>\n",
       "    .dataframe tbody tr th:only-of-type {\n",
       "        vertical-align: middle;\n",
       "    }\n",
       "\n",
       "    .dataframe tbody tr th {\n",
       "        vertical-align: top;\n",
       "    }\n",
       "\n",
       "    .dataframe thead th {\n",
       "        text-align: right;\n",
       "    }\n",
       "</style>\n",
       "<table border=\"1\" class=\"dataframe\">\n",
       "  <thead>\n",
       "    <tr style=\"text-align: right;\">\n",
       "      <th></th>\n",
       "      <th>Unnamed: 0</th>\n",
       "      <th>name</th>\n",
       "      <th>author</th>\n",
       "      <th>link</th>\n",
       "      <th>rating</th>\n",
       "      <th>rating_count</th>\n",
       "      <th>review_count</th>\n",
       "      <th>price</th>\n",
       "      <th>pages</th>\n",
       "      <th>pages_count</th>\n",
       "      <th>text_of_reviews</th>\n",
       "      <th>age</th>\n",
       "      <th>year</th>\n",
       "      <th>is_popular</th>\n",
       "    </tr>\n",
       "  </thead>\n",
       "  <tbody>\n",
       "    <tr>\n",
       "      <th>0</th>\n",
       "      <td>0</td>\n",
       "      <td>Нейросети начало</td>\n",
       "      <td>Джейд Картер</td>\n",
       "      <td>https://www.litres.ru/book/dzheyd-karter/neyro...</td>\n",
       "      <td>4.9</td>\n",
       "      <td>433</td>\n",
       "      <td>37</td>\n",
       "      <td>690.0</td>\n",
       "      <td>102</td>\n",
       "      <td>102</td>\n",
       "      <td>['Книга отличная. Давно хотела понять как все ...</td>\n",
       "      <td>12</td>\n",
       "      <td>2023</td>\n",
       "      <td>1</td>\n",
       "    </tr>\n",
       "    <tr>\n",
       "      <th>775</th>\n",
       "      <td>961</td>\n",
       "      <td>Теоретический минимум по Computer Science. Все...</td>\n",
       "      <td>Владстон Феррейра Фило</td>\n",
       "      <td>https://www.litres.ru/book/vladston-ferreyra-f...</td>\n",
       "      <td>3.9</td>\n",
       "      <td>94</td>\n",
       "      <td>28</td>\n",
       "      <td>599.0</td>\n",
       "      <td>224</td>\n",
       "      <td>224</td>\n",
       "      <td>['Прекрасная книга. Рекомендовал и старшим шко...</td>\n",
       "      <td>16</td>\n",
       "      <td>2017</td>\n",
       "      <td>0</td>\n",
       "    </tr>\n",
       "    <tr>\n",
       "      <th>98</th>\n",
       "      <td>117</td>\n",
       "      <td>#Сам себе программист. Как научиться программи...</td>\n",
       "      <td>Кори Альтхофф</td>\n",
       "      <td>https://www.litres.ru/book/kori-althoff/sam-se...</td>\n",
       "      <td>4.2</td>\n",
       "      <td>128</td>\n",
       "      <td>25</td>\n",
       "      <td>299.0</td>\n",
       "      <td>210</td>\n",
       "      <td>210</td>\n",
       "      <td>['Отличная книга чтобы начать программировать,...</td>\n",
       "      <td>12</td>\n",
       "      <td>2017</td>\n",
       "      <td>0</td>\n",
       "    </tr>\n",
       "    <tr>\n",
       "      <th>692</th>\n",
       "      <td>857</td>\n",
       "      <td>Нейросети. Обработка естественного языка</td>\n",
       "      <td>Джейд Картер</td>\n",
       "      <td>https://www.litres.ru/book/dzheyd-karter/neyro...</td>\n",
       "      <td>5.0</td>\n",
       "      <td>377</td>\n",
       "      <td>19</td>\n",
       "      <td>690.0</td>\n",
       "      <td>231</td>\n",
       "      <td>231</td>\n",
       "      <td>['Отличная серия! Обложки просто кайф. Много п...</td>\n",
       "      <td>12</td>\n",
       "      <td>2023</td>\n",
       "      <td>1</td>\n",
       "    </tr>\n",
       "    <tr>\n",
       "      <th>494</th>\n",
       "      <td>605</td>\n",
       "      <td>Изучаем Python: программирование игр, визуализ...</td>\n",
       "      <td>Эрик Мэтиз</td>\n",
       "      <td>https://www.litres.ru/book/erik-metiz/izuchaem...</td>\n",
       "      <td>4.3</td>\n",
       "      <td>74</td>\n",
       "      <td>18</td>\n",
       "      <td>699.0</td>\n",
       "      <td>512</td>\n",
       "      <td>512</td>\n",
       "      <td>['Осторожно, под видом второго издания продает...</td>\n",
       "      <td>16</td>\n",
       "      <td>2021</td>\n",
       "      <td>0</td>\n",
       "    </tr>\n",
       "    <tr>\n",
       "      <th>528</th>\n",
       "      <td>648</td>\n",
       "      <td>Swift. Основы разработки приложений под iOS, i...</td>\n",
       "      <td>Василий Усов</td>\n",
       "      <td>https://www.litres.ru/book/vasiliy-usov/swift-...</td>\n",
       "      <td>3.1</td>\n",
       "      <td>64</td>\n",
       "      <td>17</td>\n",
       "      <td>499.0</td>\n",
       "      <td>545</td>\n",
       "      <td>545</td>\n",
       "      <td>['Книга хорошая. Все подробно описано. Единств...</td>\n",
       "      <td>16</td>\n",
       "      <td>2021</td>\n",
       "      <td>0</td>\n",
       "    </tr>\n",
       "    <tr>\n",
       "      <th>89</th>\n",
       "      <td>107</td>\n",
       "      <td>Облачные технологии. Практическое руководство ...</td>\n",
       "      <td>Джейд Картер</td>\n",
       "      <td>https://www.litres.ru/book/dzheyd-karter/oblac...</td>\n",
       "      <td>5.0</td>\n",
       "      <td>268</td>\n",
       "      <td>17</td>\n",
       "      <td>690.0</td>\n",
       "      <td>212</td>\n",
       "      <td>212</td>\n",
       "      <td>['Автор не перестает радовать годными книгами....</td>\n",
       "      <td>12</td>\n",
       "      <td>2024</td>\n",
       "      <td>1</td>\n",
       "    </tr>\n",
       "    <tr>\n",
       "      <th>458</th>\n",
       "      <td>560</td>\n",
       "      <td>Путь лидера</td>\n",
       "      <td>Джейд Картер</td>\n",
       "      <td>https://www.litres.ru/book/anna-kozlovceva/put...</td>\n",
       "      <td>5.0</td>\n",
       "      <td>173</td>\n",
       "      <td>17</td>\n",
       "      <td>199.0</td>\n",
       "      <td>215</td>\n",
       "      <td>215</td>\n",
       "      <td>['Отличное руководство. Расписан каждый шаг. Д...</td>\n",
       "      <td>12</td>\n",
       "      <td>2023</td>\n",
       "      <td>1</td>\n",
       "    </tr>\n",
       "    <tr>\n",
       "      <th>481</th>\n",
       "      <td>592</td>\n",
       "      <td>Программирование на C++ в примерах и задачах</td>\n",
       "      <td>Алексей Васильев</td>\n",
       "      <td>https://www.litres.ru/book/aleksey-nikolaevich...</td>\n",
       "      <td>4.0</td>\n",
       "      <td>78</td>\n",
       "      <td>16</td>\n",
       "      <td>419.0</td>\n",
       "      <td>369</td>\n",
       "      <td>369</td>\n",
       "      <td>['Я купил эту книгу в бумажном виде, прочитав ...</td>\n",
       "      <td>12</td>\n",
       "      <td>2017</td>\n",
       "      <td>0</td>\n",
       "    </tr>\n",
       "    <tr>\n",
       "      <th>947</th>\n",
       "      <td>1174</td>\n",
       "      <td>1С:Программирование для начинающих. Детям и ро...</td>\n",
       "      <td>м. г. радченко</td>\n",
       "      <td>https://www.litres.ru/book/m-g-radchenko/1s-pr...</td>\n",
       "      <td>4.0</td>\n",
       "      <td>64</td>\n",
       "      <td>15</td>\n",
       "      <td>550.0</td>\n",
       "      <td>781</td>\n",
       "      <td>781</td>\n",
       "      <td>['Эту книгу я бы рекомендовала самой первой к ...</td>\n",
       "      <td>12</td>\n",
       "      <td>2022</td>\n",
       "      <td>0</td>\n",
       "    </tr>\n",
       "  </tbody>\n",
       "</table>\n",
       "</div>"
      ],
      "text/plain": [
       "     Unnamed: 0                                               name  \\\n",
       "0             0                                   Нейросети начало   \n",
       "775         961  Теоретический минимум по Computer Science. Все...   \n",
       "98          117  #Сам себе программист. Как научиться программи...   \n",
       "692         857           Нейросети. Обработка естественного языка   \n",
       "494         605  Изучаем Python: программирование игр, визуализ...   \n",
       "528         648  Swift. Основы разработки приложений под iOS, i...   \n",
       "89          107  Облачные технологии. Практическое руководство ...   \n",
       "458         560                                        Путь лидера   \n",
       "481         592       Программирование на C++ в примерах и задачах   \n",
       "947        1174  1С:Программирование для начинающих. Детям и ро...   \n",
       "\n",
       "                     author  \\\n",
       "0              Джейд Картер   \n",
       "775  Владстон Феррейра Фило   \n",
       "98            Кори Альтхофф   \n",
       "692            Джейд Картер   \n",
       "494              Эрик Мэтиз   \n",
       "528            Василий Усов   \n",
       "89             Джейд Картер   \n",
       "458            Джейд Картер   \n",
       "481        Алексей Васильев   \n",
       "947          м. г. радченко   \n",
       "\n",
       "                                                  link  rating  rating_count  \\\n",
       "0    https://www.litres.ru/book/dzheyd-karter/neyro...     4.9           433   \n",
       "775  https://www.litres.ru/book/vladston-ferreyra-f...     3.9            94   \n",
       "98   https://www.litres.ru/book/kori-althoff/sam-se...     4.2           128   \n",
       "692  https://www.litres.ru/book/dzheyd-karter/neyro...     5.0           377   \n",
       "494  https://www.litres.ru/book/erik-metiz/izuchaem...     4.3            74   \n",
       "528  https://www.litres.ru/book/vasiliy-usov/swift-...     3.1            64   \n",
       "89   https://www.litres.ru/book/dzheyd-karter/oblac...     5.0           268   \n",
       "458  https://www.litres.ru/book/anna-kozlovceva/put...     5.0           173   \n",
       "481  https://www.litres.ru/book/aleksey-nikolaevich...     4.0            78   \n",
       "947  https://www.litres.ru/book/m-g-radchenko/1s-pr...     4.0            64   \n",
       "\n",
       "     review_count  price  pages  pages_count  \\\n",
       "0              37  690.0    102          102   \n",
       "775            28  599.0    224          224   \n",
       "98             25  299.0    210          210   \n",
       "692            19  690.0    231          231   \n",
       "494            18  699.0    512          512   \n",
       "528            17  499.0    545          545   \n",
       "89             17  690.0    212          212   \n",
       "458            17  199.0    215          215   \n",
       "481            16  419.0    369          369   \n",
       "947            15  550.0    781          781   \n",
       "\n",
       "                                       text_of_reviews  age  year  is_popular  \n",
       "0    ['Книга отличная. Давно хотела понять как все ...   12  2023           1  \n",
       "775  ['Прекрасная книга. Рекомендовал и старшим шко...   16  2017           0  \n",
       "98   ['Отличная книга чтобы начать программировать,...   12  2017           0  \n",
       "692  ['Отличная серия! Обложки просто кайф. Много п...   12  2023           1  \n",
       "494  ['Осторожно, под видом второго издания продает...   16  2021           0  \n",
       "528  ['Книга хорошая. Все подробно описано. Единств...   16  2021           0  \n",
       "89   ['Автор не перестает радовать годными книгами....   12  2024           1  \n",
       "458  ['Отличное руководство. Расписан каждый шаг. Д...   12  2023           1  \n",
       "481  ['Я купил эту книгу в бумажном виде, прочитав ...   12  2017           0  \n",
       "947  ['Эту книгу я бы рекомендовала самой первой к ...   12  2022           0  "
      ]
     },
     "execution_count": 67,
     "metadata": {},
     "output_type": "execute_result"
    }
   ],
   "source": [
    "# 13 \n",
    "df.sort_values(by=['review_count'], ascending=False).head(10)"
   ]
  },
  {
   "cell_type": "code",
   "execution_count": 68,
   "metadata": {},
   "outputs": [
    {
     "data": {
      "text/plain": [
       "445.6300518134715"
      ]
     },
     "execution_count": 68,
     "metadata": {},
     "output_type": "execute_result"
    }
   ],
   "source": [
    "# 14 445 символов средняя длина отзыва\n",
    "df['text_of_reviews'].str.len().mean()"
   ]
  },
  {
   "cell_type": "code",
   "execution_count": 73,
   "metadata": {},
   "outputs": [
    {
     "data": {
      "text/html": [
       "<div>\n",
       "<style scoped>\n",
       "    .dataframe tbody tr th:only-of-type {\n",
       "        vertical-align: middle;\n",
       "    }\n",
       "\n",
       "    .dataframe tbody tr th {\n",
       "        vertical-align: top;\n",
       "    }\n",
       "\n",
       "    .dataframe thead th {\n",
       "        text-align: right;\n",
       "    }\n",
       "</style>\n",
       "<table border=\"1\" class=\"dataframe\">\n",
       "  <thead>\n",
       "    <tr style=\"text-align: right;\">\n",
       "      <th></th>\n",
       "      <th>rating</th>\n",
       "      <th>rating_count</th>\n",
       "      <th>review_count</th>\n",
       "      <th>price</th>\n",
       "      <th>pages</th>\n",
       "      <th>age</th>\n",
       "      <th>year</th>\n",
       "      <th>is_popular</th>\n",
       "    </tr>\n",
       "  </thead>\n",
       "  <tbody>\n",
       "    <tr>\n",
       "      <th>rating</th>\n",
       "      <td>1.000000</td>\n",
       "      <td>0.257016</td>\n",
       "      <td>0.402186</td>\n",
       "      <td>0.410324</td>\n",
       "      <td>0.509376</td>\n",
       "      <td>0.433156</td>\n",
       "      <td>0.264318</td>\n",
       "      <td>0.197465</td>\n",
       "    </tr>\n",
       "    <tr>\n",
       "      <th>rating_count</th>\n",
       "      <td>0.257016</td>\n",
       "      <td>1.000000</td>\n",
       "      <td>0.683794</td>\n",
       "      <td>0.208341</td>\n",
       "      <td>0.135824</td>\n",
       "      <td>0.221253</td>\n",
       "      <td>0.160573</td>\n",
       "      <td>0.571547</td>\n",
       "    </tr>\n",
       "    <tr>\n",
       "      <th>review_count</th>\n",
       "      <td>0.402186</td>\n",
       "      <td>0.683794</td>\n",
       "      <td>1.000000</td>\n",
       "      <td>0.309463</td>\n",
       "      <td>0.348800</td>\n",
       "      <td>0.352973</td>\n",
       "      <td>0.165968</td>\n",
       "      <td>0.435468</td>\n",
       "    </tr>\n",
       "    <tr>\n",
       "      <th>price</th>\n",
       "      <td>0.410324</td>\n",
       "      <td>0.208341</td>\n",
       "      <td>0.309463</td>\n",
       "      <td>1.000000</td>\n",
       "      <td>0.639805</td>\n",
       "      <td>0.484190</td>\n",
       "      <td>0.428793</td>\n",
       "      <td>0.143033</td>\n",
       "    </tr>\n",
       "    <tr>\n",
       "      <th>pages</th>\n",
       "      <td>0.509376</td>\n",
       "      <td>0.135824</td>\n",
       "      <td>0.348800</td>\n",
       "      <td>0.639805</td>\n",
       "      <td>1.000000</td>\n",
       "      <td>0.424448</td>\n",
       "      <td>0.201769</td>\n",
       "      <td>0.124267</td>\n",
       "    </tr>\n",
       "    <tr>\n",
       "      <th>age</th>\n",
       "      <td>0.433156</td>\n",
       "      <td>0.221253</td>\n",
       "      <td>0.352973</td>\n",
       "      <td>0.484190</td>\n",
       "      <td>0.424448</td>\n",
       "      <td>1.000000</td>\n",
       "      <td>0.459847</td>\n",
       "      <td>0.143136</td>\n",
       "    </tr>\n",
       "    <tr>\n",
       "      <th>year</th>\n",
       "      <td>0.264318</td>\n",
       "      <td>0.160573</td>\n",
       "      <td>0.165968</td>\n",
       "      <td>0.428793</td>\n",
       "      <td>0.201769</td>\n",
       "      <td>0.459847</td>\n",
       "      <td>1.000000</td>\n",
       "      <td>0.157431</td>\n",
       "    </tr>\n",
       "    <tr>\n",
       "      <th>is_popular</th>\n",
       "      <td>0.197465</td>\n",
       "      <td>0.571547</td>\n",
       "      <td>0.435468</td>\n",
       "      <td>0.143033</td>\n",
       "      <td>0.124267</td>\n",
       "      <td>0.143136</td>\n",
       "      <td>0.157431</td>\n",
       "      <td>1.000000</td>\n",
       "    </tr>\n",
       "  </tbody>\n",
       "</table>\n",
       "</div>"
      ],
      "text/plain": [
       "                rating  rating_count  review_count     price     pages  \\\n",
       "rating        1.000000      0.257016      0.402186  0.410324  0.509376   \n",
       "rating_count  0.257016      1.000000      0.683794  0.208341  0.135824   \n",
       "review_count  0.402186      0.683794      1.000000  0.309463  0.348800   \n",
       "price         0.410324      0.208341      0.309463  1.000000  0.639805   \n",
       "pages         0.509376      0.135824      0.348800  0.639805  1.000000   \n",
       "age           0.433156      0.221253      0.352973  0.484190  0.424448   \n",
       "year          0.264318      0.160573      0.165968  0.428793  0.201769   \n",
       "is_popular    0.197465      0.571547      0.435468  0.143033  0.124267   \n",
       "\n",
       "                   age      year  is_popular  \n",
       "rating        0.433156  0.264318    0.197465  \n",
       "rating_count  0.221253  0.160573    0.571547  \n",
       "review_count  0.352973  0.165968    0.435468  \n",
       "price         0.484190  0.428793    0.143033  \n",
       "pages         0.424448  0.201769    0.124267  \n",
       "age           1.000000  0.459847    0.143136  \n",
       "year          0.459847  1.000000    0.157431  \n",
       "is_popular    0.143136  0.157431    1.000000  "
      ]
     },
     "execution_count": 73,
     "metadata": {},
     "output_type": "execute_result"
    }
   ],
   "source": [
    "# 15 Сильная корреляция между стоимостью и количеством страниц, что вероятно обусловлено стоимостью печати.\n",
    "# На рейтинг больше всего влияет review_count, количество страниц и возрастное ограничение\n",
    "# Год выпуска сильнее всего коррелирует с ценой и возрастным ограничением, новые издания стоят больше и имеют более высокий возрастной ценз\n",
    "df[['rating', 'rating_count', 'review_count', 'price', 'pages', 'age', 'year', 'is_popular']].corr()"
   ]
  },
  {
   "cell_type": "code",
   "execution_count": 76,
   "metadata": {},
   "outputs": [
    {
     "data": {
      "text/plain": [
       "<Axes: title={'center': 'scatterplot review_count and pages'}, xlabel='pages', ylabel='review_count'>"
      ]
     },
     "execution_count": 76,
     "metadata": {},
     "output_type": "execute_result"
    },
    {
     "data": {
      "image/png": "[encoded data removed]",
      "text/plain": [
       "<Figure size 432x288 with 1 Axes>"
      ]
     },
     "metadata": {
      "needs_background": "light"
     },
     "output_type": "display_data"
    }
   ],
   "source": [
    "# 16 В большинстве у книг до 600 страниц среднее количество отзывов совпадает, начиная от 700 страниц количество отзывов уменьшается\n",
    "df.plot.scatter(x = 'pages', y = 'review_count', title = 'scatterplot review_count and pages')"
   ]
  },
  {
   "cell_type": "code",
   "execution_count": 82,
   "metadata": {},
   "outputs": [
    {
     "data": {
      "image/png": "[encoded data removed]",
      "text/plain": [
       "<Figure size 720x360 with 1 Axes>"
      ]
     },
     "metadata": {
      "needs_background": "light"
     },
     "output_type": "display_data"
    }
   ],
   "source": [
    "# 17 Количество издаваемых книг росло с 1985 года, достигло пика в 2021 \n",
    "plt.figure(figsize=(10, 5))\n",
    "plt.plot(df.groupby('year').size().index, df.groupby('year').size().values, marker='o')\n",
    "plt.xlabel('Year')\n",
    "plt.ylabel('Number of books')\n",
    "plt.grid()\n",
    "plt.show()"
   ]
  },
  {
   "cell_type": "code",
   "execution_count": 115,
   "metadata": {},
   "outputs": [
    {
     "data": {
      "text/html": [
       "<div>\n",
       "<style scoped>\n",
       "    .dataframe tbody tr th:only-of-type {\n",
       "        vertical-align: middle;\n",
       "    }\n",
       "\n",
       "    .dataframe tbody tr th {\n",
       "        vertical-align: top;\n",
       "    }\n",
       "\n",
       "    .dataframe thead th {\n",
       "        text-align: right;\n",
       "    }\n",
       "</style>\n",
       "<table border=\"1\" class=\"dataframe\">\n",
       "  <thead>\n",
       "    <tr style=\"text-align: right;\">\n",
       "      <th></th>\n",
       "      <th>num_books</th>\n",
       "      <th>avg_rating</th>\n",
       "      <th>review_count</th>\n",
       "    </tr>\n",
       "    <tr>\n",
       "      <th>author</th>\n",
       "      <th></th>\n",
       "      <th></th>\n",
       "      <th></th>\n",
       "    </tr>\n",
       "  </thead>\n",
       "  <tbody>\n",
       "    <tr>\n",
       "      <th>Arsen Gonian</th>\n",
       "      <td>1</td>\n",
       "      <td>5.0</td>\n",
       "      <td>1.0</td>\n",
       "    </tr>\n",
       "    <tr>\n",
       "      <th>C. И. Никишов</th>\n",
       "      <td>1</td>\n",
       "      <td>4.7</td>\n",
       "      <td>3.0</td>\n",
       "    </tr>\n",
       "    <tr>\n",
       "      <th>Eugeny Shtoltc</th>\n",
       "      <td>2</td>\n",
       "      <td>2.5</td>\n",
       "      <td>0.0</td>\n",
       "    </tr>\n",
       "    <tr>\n",
       "      <th>Jade Carter</th>\n",
       "      <td>1</td>\n",
       "      <td>0.0</td>\n",
       "      <td>0.0</td>\n",
       "    </tr>\n",
       "    <tr>\n",
       "      <th>Nulls</th>\n",
       "      <td>1</td>\n",
       "      <td>4.4</td>\n",
       "      <td>6.0</td>\n",
       "    </tr>\n",
       "    <tr>\n",
       "      <th>...</th>\n",
       "      <td>...</td>\n",
       "      <td>...</td>\n",
       "      <td>...</td>\n",
       "    </tr>\n",
       "    <tr>\n",
       "      <th>Ян Пойнтер</th>\n",
       "      <td>1</td>\n",
       "      <td>3.6</td>\n",
       "      <td>2.0</td>\n",
       "    </tr>\n",
       "    <tr>\n",
       "      <th>а. ф. задорожный</th>\n",
       "      <td>1</td>\n",
       "      <td>0.0</td>\n",
       "      <td>0.0</td>\n",
       "    </tr>\n",
       "    <tr>\n",
       "      <th>коллектив авторов</th>\n",
       "      <td>5</td>\n",
       "      <td>2.8</td>\n",
       "      <td>0.4</td>\n",
       "    </tr>\n",
       "    <tr>\n",
       "      <th>м. г. радченко</th>\n",
       "      <td>1</td>\n",
       "      <td>4.0</td>\n",
       "      <td>15.0</td>\n",
       "    </tr>\n",
       "    <tr>\n",
       "      <th>роберт лафоре</th>\n",
       "      <td>1</td>\n",
       "      <td>3.9</td>\n",
       "      <td>3.0</td>\n",
       "    </tr>\n",
       "  </tbody>\n",
       "</table>\n",
       "<p>730 rows × 3 columns</p>\n",
       "</div>"
      ],
      "text/plain": [
       "                   num_books  avg_rating  review_count\n",
       "author                                                \n",
       "Arsen Gonian               1         5.0           1.0\n",
       "C. И. Никишов              1         4.7           3.0\n",
       "Eugeny Shtoltc             2         2.5           0.0\n",
       "Jade Carter                1         0.0           0.0\n",
       "Nulls                      1         4.4           6.0\n",
       "...                      ...         ...           ...\n",
       "Ян Пойнтер                 1         3.6           2.0\n",
       "а. ф. задорожный           1         0.0           0.0\n",
       "коллектив авторов          5         2.8           0.4\n",
       "м. г. радченко             1         4.0          15.0\n",
       "роберт лафоре              1         3.9           3.0\n",
       "\n",
       "[730 rows x 3 columns]"
      ]
     },
     "execution_count": 115,
     "metadata": {},
     "output_type": "execute_result"
    }
   ],
   "source": [
    "# 19\n",
    "df_new = df.groupby('author').agg({\n",
    "    'name': 'count', \n",
    "    'rating': 'mean', \n",
    "    'review_count': 'mean' \n",
    "}).rename(columns={\n",
    "    'name': 'num_books',\n",
    "    'rating': 'avg_rating',\n",
    "    'reviews': 'avg_review_count'\n",
    "})\n",
    "df_new"
   ]
  }
 ],
 "metadata": {
  "colab": {
   "provenance": []
  },
  "kernelspec": {
   "display_name": "Python 3",
   "language": "python",
   "name": "python3"
  },
  "language_info": {
   "codemirror_mode": {
    "name": "ipython",
    "version": 3
   },
   "file_extension": ".py",
   "mimetype": "text/x-python",
   "name": "python",
   "nbconvert_exporter": "python",
   "pygments_lexer": "ipython3",
   "version": "3.8.3"
  }
 },
 "nbformat": 4,
 "nbformat_minor": 1
}
